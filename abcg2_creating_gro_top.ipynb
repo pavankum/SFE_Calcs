{
 "cells": [
  {
   "cell_type": "code",
   "execution_count": 1,
   "id": "6515d592-b6a5-4b3d-b0f3-8c7f32e50c2f",
   "metadata": {},
   "outputs": [],
   "source": [
    "from openff.toolkit import Molecule\n",
    "import pandas as pd\n",
    "from rdkit import Chem\n",
    "from rdkit.Chem import Draw\n",
    "from rdkit.Chem.rdMolDescriptors import CalcMolFormula\n",
    "from rdkit.Chem.AllChem import ComputeMolVolume\n",
    "import math\n",
    "import os\n",
    "import numpy as np\n",
    "import matplotlib.pyplot as plt\n",
    "import shutil\n",
    "from openff.toolkit import ForceField, Molecule, Topology\n",
    "import pathlib\n",
    "import logging"
   ]
  },
  {
   "cell_type": "code",
   "execution_count": 2,
   "id": "e2f58ebd-7e6e-4fad-8c3b-a304c83ab9d1",
   "metadata": {},
   "outputs": [],
   "source": [
    "logging.getLogger(\"openff\").setLevel(logging.ERROR)"
   ]
  },
  {
   "cell_type": "markdown",
   "id": "500c8931",
   "metadata": {},
   "source": [
    "# Smiles of the solutes and solvents picked by Melissa"
   ]
  },
  {
   "cell_type": "code",
   "execution_count": 3,
   "id": "c475831c-5b9a-49d5-a411-1bca3abe5133",
   "metadata": {},
   "outputs": [],
   "source": [
    "#original set\n",
    "solutelstsmiles = ['O=Cc1cc(Br)c(O)c(Br)c1', 'Cc1cc(C(=O)O)ccc1[N+](=O)[O-]', 'Oc1ccc(OCc2ccccc2)cc1', 'Nc1ccc(S(=O)(=O)Nc2ccc(Cl)nn2)cc1', 'CC(=O)O[C@]1(C(C)=O)CC[C@H]2[C@@H]3C=C(Cl)C4=CC(=O)[C@@H]5C[C@@H]5[C@]4(C)[C@H]3CC[C@@]21C', 'C=C1C[C@]23C[C@H]1CC[C@H]2[C@@]12CC[C@H](O)[C@@](C)(C(=O)O1)[C@H]2[C@@H]3C(=O)O', 'N#CCc1ccc([N+](=O)[O-])cc1', 'O=C(O)c1cc([N+](=O)[O-])cc([N+](=O)[O-])c1O', 'N#Cc1cccc([N+](=O)[O-])c1', 'CC(=O)N[C@@H](CC(C)C)C(=O)O', 'CC(=O)N[C@@H](CC(C)C)C(=O)O', 'N[C@@H](CO)C(=O)O', 'COc1cc([N+](=O)[O-])ccc1N', 'Nc1c(Cl)cc([N+](=O)[O-])cc1Cl', 'CC(=O)Nc1ccccc1[N+](=O)[O-]', 'N[C@H](Cc1c[nH]c2ccccc12)C(=O)O', 'Cl.N[C@@H](Cc1ccccc1)C(=O)OCc1ccccc1', 'CC(=O)N1CCC[C@H]1C(=O)O', 'CSCCC(NC(C)=O)C(=O)O', 'CCOC(=O)[C@@H]1CSCN1.Cl', 'OC[C@H]1O[C@@H](Oc2ccc(O)cc2)[C@H](O)[C@@H](O)[C@@H]1O', 'OCc1ccccc1O[C@@H]1OC(CO)[C@@H](O)[C@@H](O)C1O', 'CC(=O)Nc1ccc(OC(=O)c2ccccc2OC(C)=O)cc1', 'COc1ccc(CN2CCNCC2)c(OC)c1OC.Cl', 'CC(=O)Oc1ccccc1C(=O)Nc1ncc([N+](=O)[O-])s1', 'COc1c(N2CCNC(C)C2)c(F)cc2c(=O)c(C(=O)O)cn(C3CC3)c12', 'CN1CCN(c2c(F)cc3c(=O)c(C(=O)O)cn4c3c2OCN4C)CC1']\n",
    "solventlstsmiles = ['CCO', 'CCCCO', 'CCOC(C)=O', 'CC#N', 'CC(C)O']\n",
    "# ['ethanol', 'n-butanol', 'ethyl acetate', 'acetonitrile', 'isopropanol']"
   ]
  },
  {
   "cell_type": "markdown",
   "id": "962830b5",
   "metadata": {},
   "source": [
    "# Check to filter out any salts "
   ]
  },
  {
   "cell_type": "code",
   "execution_count": 4,
   "id": "30a09289-c665-4847-9fc8-1f4f06d31bae",
   "metadata": {},
   "outputs": [],
   "source": [
    "newsolutelstsmiles = []\n",
    "for solute in solutelstsmiles:\n",
    "    if '.' not in solute:\n",
    "        newsolutelstsmiles.append(solute)"
   ]
  },
  {
   "cell_type": "code",
   "execution_count": 5,
   "id": "72fd9c44-75af-4e4f-81f9-ff0471c84962",
   "metadata": {},
   "outputs": [],
   "source": [
    "from rdkit.Chem.Descriptors import ExactMolWt\n",
    "def logsconv(molefraction, smilestring):\n",
    "    mol = Chem.MolFromSmiles(smilestring)\n",
    "    molarmass = ExactMolWt(mol)\n",
    "    molarmasskg = molarmass * 0.001\n",
    "    molfractsolute = molefraction\n",
    "    molfractsolvent = 1 - molfractsolute\n",
    "    h20density = 997 #density of water at room temp in Kilogram per Cubic Meter\n",
    "    h20mass = 0.01801528 #molar mass of water at room temp in kg\n",
    "    sval = ((molfractsolute*h20density*0.001)/(molfractsolvent*h20mass+molfractsolute*molarmasskg))\n",
    "    logsval = math.log10(sval)\n",
    "    return(logsval)"
   ]
  },
  {
   "cell_type": "markdown",
   "id": "466c76b2-d18e-4129-b402-d5c65a2c8e2a",
   "metadata": {},
   "source": [
    "# Creating a dataframe of solute+solvent pairs"
   ]
  },
  {
   "cell_type": "code",
   "execution_count": 6,
   "id": "ea0e89be-5acc-48e8-a301-b6d71b43890d",
   "metadata": {},
   "outputs": [
    {
     "name": "stdout",
     "output_type": "stream",
     "text": [
      "136\n"
     ]
    }
   ],
   "source": [
    "df30315 = pd.read_csv('df30315.csv')\n",
    "\n",
    "solrangedf = df30315.copy()\n",
    "\n",
    "count = 0\n",
    "for i in solrangedf['SMILES_Solvent']:\n",
    "    if i not in solventlstsmiles:\n",
    "        solrangedf = solrangedf.drop(solrangedf.index[count])\n",
    "        count -= 1\n",
    "    count += 1\n",
    "count = 0\n",
    "for i in solrangedf['SMILES']:\n",
    "    if i not in newsolutelstsmiles:\n",
    "        solrangedf = solrangedf.drop(solrangedf.index[count])\n",
    "        count -= 1\n",
    "    count += 1\n",
    "\n",
    "solubilitylst = []\n",
    "logslst = []\n",
    "for i in solrangedf['Solubility']:\n",
    "    solubilitylst.append(i)\n",
    "smileslst = []\n",
    "for i in solrangedf['SMILES']:\n",
    "    smileslst.append(i)\n",
    "for i,j in zip(solubilitylst, smileslst):\n",
    "    logslst.append(logsconv(i,j))\n",
    "print(len(logslst))\n",
    "solrangedf['LogS'] = logslst\n",
    "\n",
    "solvlst = ['ethanol', 'n-butanol', 'ethyl acetate', 'acetonitrile', 'isopropanol']\n",
    "\n",
    "mol1df = solrangedf.copy()\n",
    "count = 0\n",
    "for i in mol1df['Solvent']:\n",
    "    if i not in solvlst[4]:\n",
    "        mol1df = mol1df.drop(mol1df.index[count])\n",
    "        count -= 1\n",
    "    count += 1\n",
    "mol1df = mol1df.drop_duplicates(subset=[\"SMILES\"], keep='first')\n",
    "templst = list(mol1df['T,K'])\n",
    "smileslst = list(mol1df['SMILES'])\n"
   ]
  },
  {
   "cell_type": "code",
   "execution_count": 7,
   "id": "a17af476-ad6b-4a7f-b7ba-68462350dba5",
   "metadata": {},
   "outputs": [],
   "source": [
    "solvdensity = [0.789, 0.801, 0.902, 0.786, 0.786]\n",
    "solv_dict = {'ethanol':['0.789g/cm^3', '732.40-866.84kg/m^3 at 278.15-348.15K'],\n",
    "             'n-butanol':['0.801g/cm^3', '752.08-817.21kg/m^3 at 283.15-363.15K'],\n",
    "             'ethyl acetate':['0.902g/cm^3', '830.62-906.55kg/m^3 at 288.15-348.15K'],\n",
    "             'acetonitrile':['0.786g/cm^3', '726.43-798.12kg/m^3 at 278.15-343.15K'],\n",
    "             'isopropanol': ['0.786g/cm^3', '738.91-810.90kg/m^3 at 263.10-343.30K']}"
   ]
  },
  {
   "cell_type": "code",
   "execution_count": 8,
   "id": "5b9a3298-00b2-4122-b1a5-e5aba4704558",
   "metadata": {},
   "outputs": [
    {
     "name": "stdout",
     "output_type": "stream",
     "text": [
      "   index                                      SMILES     T,K  Solubility  \\\n",
      "0    358  CC(=O)Oc1ccccc1C(=O)Nc1ncc([N+](=O)[O-])s1  303.15    0.000331   \n",
      "1    359                      O=Cc1cc(Br)c(O)c(Br)c1  303.15    0.005547   \n",
      "2    360      CC(=O)Nc1ccc(OC(=O)c2ccccc2OC(C)=O)cc1  303.15    0.000486   \n",
      "3    372                 CC(=O)Nc1ccccc1[N+](=O)[O-]  303.15    0.032350   \n",
      "4    373                        CSCCC(NC(C)=O)C(=O)O  303.15    0.095400   \n",
      "\n",
      "   Solvent SMILES_Solvent                    Source      LogS  \n",
      "0  ethanol            CCO  10.1021/acs.jced.0c00254 -1.739418  \n",
      "1  ethanol            CCO  10.1021/acs.jced.0c00376 -0.546314  \n",
      "2  ethanol            CCO  10.1021/acs.jced.0c00301 -1.573753  \n",
      "3  ethanol            CCO  10.1021/acs.jced.1c00037  0.142012  \n",
      "4  ethanol            CCO  10.1021/acs.jced.1c00064  0.440124  \n",
      "23\n"
     ]
    },
    {
     "name": "stderr",
     "output_type": "stream",
     "text": [
      "Warning: : Failed due to unspecified stereochemistry\n",
      "Warning: : Failed due to unspecified stereochemistry\n",
      "Warning: : Failed due to unspecified stereochemistry\n"
     ]
    },
    {
     "name": "stdout",
     "output_type": "stream",
     "text": [
      "   index                                      SMILES     T,K  Solubility  \\\n",
      "0   1058  CC(=O)Oc1ccccc1C(=O)Nc1ncc([N+](=O)[O-])s1  303.15    0.000471   \n",
      "1   1059                      O=Cc1cc(Br)c(O)c(Br)c1  303.15    0.008456   \n",
      "2   1060      CC(=O)Nc1ccc(OC(=O)c2ccccc2OC(C)=O)cc1  303.15    0.000557   \n",
      "3   1070                 CC(=O)Nc1ccccc1[N+](=O)[O-]  303.15    0.023210   \n",
      "4   1071                        CSCCC(NC(C)=O)C(=O)O  303.15    0.059100   \n",
      "\n",
      "     Solvent SMILES_Solvent                    Source      LogS  \n",
      "0  n-butanol          CCCCO  10.1021/acs.jced.0c00254 -1.587194  \n",
      "1  n-butanol          CCCCO  10.1021/acs.jced.0c00376 -0.379760  \n",
      "2  n-butanol          CCCCO  10.1021/acs.jced.0c00301 -1.515035  \n",
      "3  n-butanol          CCCCO  10.1021/acs.jced.1c00037  0.026388  \n",
      "4  n-butanol          CCCCO  10.1021/acs.jced.1c00064  0.319382  \n",
      "23\n"
     ]
    },
    {
     "name": "stderr",
     "output_type": "stream",
     "text": [
      "Warning: : Failed due to unspecified stereochemistry\n",
      "Warning: : Failed due to unspecified stereochemistry\n",
      "Warning: : Failed due to unspecified stereochemistry\n"
     ]
    },
    {
     "name": "stdout",
     "output_type": "stream",
     "text": [
      "   index                                      SMILES     T,K  Solubility  \\\n",
      "0   1568  CC(=O)Oc1ccccc1C(=O)Nc1ncc([N+](=O)[O-])s1  303.15    0.003298   \n",
      "1   1569                      O=Cc1cc(Br)c(O)c(Br)c1  303.15    0.011390   \n",
      "2   1570      CC(=O)Nc1ccc(OC(=O)c2ccccc2OC(C)=O)cc1  303.15    0.001189   \n",
      "3   1581                 CC(=O)Nc1ccccc1[N+](=O)[O-]  303.15    0.112000   \n",
      "4   1582                        CSCCC(NC(C)=O)C(=O)O  303.15    0.006410   \n",
      "\n",
      "         Solvent SMILES_Solvent                    Source      LogS  \n",
      "0  ethyl acetate      CCOC(C)=O  10.1021/acs.jced.0c00254 -0.761086  \n",
      "1  ethyl acetate      CCOC(C)=O  10.1021/acs.jced.0c00376 -0.266481  \n",
      "2  ethyl acetate      CCOC(C)=O  10.1021/acs.jced.0c00301 -1.190141  \n",
      "3  ethyl acetate      CCOC(C)=O  10.1021/acs.jced.1c00037  0.489642  \n",
      "4  ethyl acetate      CCOC(C)=O  10.1021/acs.jced.1c00064 -0.476037  \n",
      "23\n"
     ]
    },
    {
     "name": "stderr",
     "output_type": "stream",
     "text": [
      "Warning: : Failed due to unspecified stereochemistry\n",
      "Warning: : Failed due to unspecified stereochemistry\n",
      "Warning: : Failed due to unspecified stereochemistry\n"
     ]
    },
    {
     "name": "stdout",
     "output_type": "stream",
     "text": [
      "   index                                      SMILES     T,K  Solubility  \\\n",
      "0   1903  CC(=O)Oc1ccccc1C(=O)Nc1ncc([N+](=O)[O-])s1  303.15    0.001576   \n",
      "1   1904                      O=Cc1cc(Br)c(O)c(Br)c1  303.15    0.004517   \n",
      "2   1905      CC(=O)Nc1ccc(OC(=O)c2ccccc2OC(C)=O)cc1  303.15    0.001994   \n",
      "3   1914                 CC(=O)Nc1ccccc1[N+](=O)[O-]  303.15    0.038690   \n",
      "4   1915                        CSCCC(NC(C)=O)C(=O)O  303.15    0.008770   \n",
      "\n",
      "        Solvent SMILES_Solvent                    Source      LogS  \n",
      "0  acetonitrile           CC#N  10.1021/acs.jced.0c00254 -1.070233  \n",
      "1  acetonitrile           CC#N  10.1021/acs.jced.0c00376 -0.629507  \n",
      "2  acetonitrile           CC#N  10.1021/acs.jced.0c00301 -0.971178  \n",
      "3  acetonitrile           CC#N  10.1021/acs.jced.1c00037  0.200964  \n",
      "4  acetonitrile           CC#N  10.1021/acs.jced.1c00064 -0.349072  \n",
      "23\n"
     ]
    },
    {
     "name": "stderr",
     "output_type": "stream",
     "text": [
      "Warning: : Failed due to unspecified stereochemistry\n",
      "Warning: : Failed due to unspecified stereochemistry\n",
      "Warning: : Failed due to unspecified stereochemistry\n"
     ]
    },
    {
     "name": "stdout",
     "output_type": "stream",
     "text": [
      "   index                                      SMILES     T,K  Solubility  \\\n",
      "0   2140  CC(=O)Oc1ccccc1C(=O)Nc1ncc([N+](=O)[O-])s1  303.15    0.000436   \n",
      "1   2141                      O=Cc1cc(Br)c(O)c(Br)c1  303.15    0.006290   \n",
      "2   2142      CC(=O)Nc1ccc(OC(=O)c2ccccc2OC(C)=O)cc1  303.15    0.000262   \n",
      "3   2152                 CC(=O)Nc1ccccc1[N+](=O)[O-]  303.15    0.018400   \n",
      "4   2153                        CSCCC(NC(C)=O)C(=O)O  303.15    0.066010   \n",
      "\n",
      "       Solvent SMILES_Solvent                    Source      LogS  \n",
      "0  isopropanol         CC(C)O  10.1021/acs.jced.0c00254 -1.620486  \n",
      "1  isopropanol         CC(C)O  10.1021/acs.jced.0c00376 -0.496010  \n",
      "2  isopropanol         CC(C)O  10.1021/acs.jced.0c00301 -1.840504  \n",
      "3  isopropanol         CC(C)O  10.1021/acs.jced.1c00037 -0.058640  \n",
      "4  isopropanol         CC(C)O  10.1021/acs.jced.1c00064  0.349396  \n",
      "23\n"
     ]
    },
    {
     "name": "stderr",
     "output_type": "stream",
     "text": [
      "Warning: : Failed due to unspecified stereochemistry\n",
      "Warning: : Failed due to unspecified stereochemistry\n",
      "Warning: : Failed due to unspecified stereochemistry\n"
     ]
    }
   ],
   "source": [
    "all_solvent_df = solrangedf.copy()\n",
    "parent_dir = \"./abcg2\"\n",
    "dirnum = 1\n",
    "for item in solvlst:\n",
    "    df = all_solvent_df[all_solvent_df['Solvent'] == item]\n",
    "    df = df.drop_duplicates(subset=[\"SMILES\"], keep='first')\n",
    "    df = df.reset_index()\n",
    "    missinglst = list(df['SMILES'])\n",
    "    print(df.head())\n",
    "    print(len(df))\n",
    "\n",
    "    \n",
    "    for i in range(len(df)):\n",
    "        #create solvent.sdf\n",
    "        mol_solvent = Molecule.from_smiles(df['SMILES_Solvent'].iloc[i], allow_undefined_stereo=True)\n",
    "        mol_solvent.generate_conformers()\n",
    "        mol_solvent.to_file(\"solvent.sdf\", file_format=\"sdf\")\n",
    "        #create solute.sdf\n",
    "        mol_solute = Molecule.from_smiles(df['SMILES'].iloc[i], allow_undefined_stereo=True)\n",
    "        mol_solute.generate_conformers()\n",
    "        mol_solute.to_file(\"solute.sdf\", file_format=\"sdf\")\n",
    "        #create readme.md file\n",
    "        mdFile = open('README', 'w')\n",
    "        mdFile.write(\"Solute: % s \\n\" % df['SMILES'].iloc[i])\n",
    "        mdFile.write(\"Solvent: % s \\n\" % df['SMILES_Solvent'].iloc[i])\n",
    "        mdFile.write(\"Solvent Name: % s \\n\" % df['Solvent'].iloc[i])\n",
    "        mdFile.write(f\"Solvent Density at Room Temp: {solv_dict[df['Solvent'].iloc[i]][0]} \\n\") \n",
    "        mdFile.write(f\"Solvent Density: {solv_dict[df['Solvent'].iloc[i]][1]} \\n\") \n",
    "        mdFile.write(\"Pressure: 1.01325 atm \\n\")\n",
    "        mdFile.write(\"Temperature: % sK \\n\" % df['T,K'].iloc[i])\n",
    "        mdFile.write(\"Solubility: % s (mole fraction) \\n\" % df['Solubility'].iloc[i])\n",
    "        mdFile.write(\"LogS: % s \\n\" % df['LogS'].iloc[i])\n",
    "        mdFile.write(\"DOI: % s \\n\" % df['Source'].iloc[i])\n",
    "        mdFile.close()\n",
    "        #make new directory\n",
    "        directory = str(dirnum).zfill(4)\n",
    "        path = os.path.join(parent_dir, directory)\n",
    "        pathlib.Path(path).mkdir(parents=True, exist_ok=True) \n",
    "        # print(\"Directory '% s' created\" % directory)\n",
    "        #place files in correct directory\n",
    "        os.rename(\"solvent.sdf\", \"./\"+parent_dir+\"/% s/solvent.sdf\" % directory)\n",
    "        os.rename(\"solute.sdf\", \"./\"+parent_dir+\"/% s/solute.sdf\" % directory)\n",
    "        os.rename(\"README\", \"./\"+parent_dir+\"/% s/README.md\" % directory)\n",
    "        dirnum += 1\n"
   ]
  },
  {
   "cell_type": "code",
   "execution_count": 9,
   "id": "4b71503d-3a34-42c0-87ce-2851c1a9ee84",
   "metadata": {},
   "outputs": [],
   "source": [
    "#copying files from directory to others\n",
    "mdp_dir = './template_mdp_files/'\n",
    "mdpfiles = ['em.X.mdp', 'nvt.X.mdp', 'npt.X.mdp',  'prod.X.mdp']\n",
    "files_to_copy = ['em.X.mdp', 'npt.X.mdp', 'nvt.X.mdp', 'prod.X.mdp', 'run_eq.sh', 'run_hrex.sh']\n",
    "files_to_copy = [mdp_dir + fle for fle in files_to_copy]\n",
    "\n",
    "for i in range(1,116): # hardcoded the # of solute solvent pairs 28 * 5\n",
    "    destination_directory = \"./\"+parent_dir+\"/% s\" % str(i).zfill(4)\n",
    "    for file_to_copy in files_to_copy:\n",
    "        shutil.copy(file_to_copy, destination_directory)\n",
    "    \n",
    "    \n",
    "    # Excerpt from Meghan's code to create the lambda_directories\n",
    "    lambda_windows=20\n",
    "    outdir = \"./\"+parent_dir+\"/% s\" % str(i).zfill(4)+'/complete_files'\n",
    "    \n",
    "\n",
    "    if not os.path.isdir(outdir): os.mkdir(outdir)\n",
    "    for j in range(0, lambda_windows):\n",
    "        # Copy and edit mdp files\n",
    "        for mdpfile in mdpfiles:\n",
    "            mdpfilename = os.path.join( outdir, mdpfile.replace('.X.', '.%s.' % j))\n",
    "            shutil.copy(\"./\"+parent_dir+\"/% s\" % str(i).zfill(4)+'/'+mdpfile, mdpfilename)\n",
    "            file = open(mdpfilename, 'r')\n",
    "            text = file.readlines()\n",
    "            file.close()\n",
    "            file = open(mdpfilename, 'w')\n",
    "            for idx, line in enumerate(text):\n",
    "               if 'init_lambda_state' in line and line[0] != ';':\n",
    "                     line = 'init_lambda_state        = %s\\n' % j\n",
    "               file.write(line)\n",
    "            file.close()\n"
   ]
  },
  {
   "cell_type": "markdown",
   "id": "da91e7d3-104a-42b2-bef8-84fc2dc63bf8",
   "metadata": {},
   "source": [
    "# Using ABCG2 Charge method"
   ]
  },
  {
   "cell_type": "code",
   "execution_count": 10,
   "id": "4b4512ba-86db-4cfd-83bd-d20b7353e078",
   "metadata": {},
   "outputs": [],
   "source": [
    "# Since AmberTools version 24 \"ABCG2\" charge method is available, and can be accessed \n",
    "# by adding it to openff-toolkit's antechamber supported charge methods\n",
    "\n",
    "from openff.toolkit.utils.ambertools_wrapper import AmberToolsToolkitWrapper\n",
    "AmberToolsToolkitWrapper.SUPPORTED_CHARGE_METHODS.update({'abcg2': {'antechamber_keyword': 'abcg2',\n",
    "  'min_confs': 1,\n",
    "  'max_confs': 1,\n",
    "  'rec_confs': 1}})"
   ]
  },
  {
   "cell_type": "code",
   "execution_count": 11,
   "id": "88eaf937-5205-45ef-ab2a-131826481812",
   "metadata": {},
   "outputs": [],
   "source": [
    "from openff.interchange.components._packmol import pack_box, RHOMBIC_DODECAHEDRON\n",
    "from openff.toolkit import Molecule, ForceField\n",
    "from openff.units import unit\n",
    "import numpy as np\n",
    "from openff.interchange import Interchange\n",
    "import os\n",
    "\n",
    "_G_PER_ML = unit.grams / unit.milliliters\n",
    "ff_name = 'openff_unconstrained-2.2.0.offxml'\n",
    "\n",
    "molcount = 1\n",
    "solvnum = 0\n",
    "#calculating number of copies\n",
    "for solvent in solventlstsmiles:\n",
    "    solvmol = Molecule.from_smiles(solvent, allow_undefined_stereo=True)\n",
    "    solvmol.generate_conformers()\n",
    "    solvrdmol = solvmol.to_rdkit()\n",
    "    solvmolmatrix = Chem.rdmolops.Get3DDistanceMatrix(solvrdmol)\n",
    "    den = solvdensity[solvnum]\n",
    "    solvnum += 1\n",
    "    for i in range(len(df)):\n",
    "        solute = df['SMILES'].iloc[i]\n",
    "        mol = Molecule.from_smiles(solute, allow_undefined_stereo=True)\n",
    "        mol.generate_conformers()\n",
    "        ##################################################################\n",
    "        ##################################################################\n",
    "        # THIS BLOCK IS CRITICAL for MH's project\n",
    "        mol1 = Molecule.from_smiles(solute, allow_undefined_stereo=True)\n",
    "        mol2 = Molecule.from_smiles(solvent, allow_undefined_stereo=True)\n",
    "        \n",
    "        mol1.generate_conformers(n_conformers=1)\n",
    "        mol2.generate_conformers(n_conformers=1)\n",
    "        \n",
    "        mol1.assign_partial_charges(partial_charge_method='abcg2')\n",
    "        mol2.assign_partial_charges(partial_charge_method='abcg2')\n",
    "\n",
    "        \n",
    "        off_top = pack_box(molecules=[mol2], \n",
    "                           number_of_copies=[400], \n",
    "                           target_density=den*0.9*_G_PER_ML, \n",
    "                           solute=mol1.to_topology(),\n",
    "                           center_solute=True, \n",
    "                           box_shape=RHOMBIC_DODECAHEDRON)\n",
    "        sage = ForceField(ff_name)\n",
    "        out = Interchange.from_smirnoff(force_field=sage, topology=off_top, charge_from_molecules=set(list(off_top.molecules)))\n",
    "        ##################################################################\n",
    "        ##################################################################\n",
    "        out.to_gro('% s.gro' % str(molcount).zfill(4))\n",
    "        out.to_top('% s.top' % str(molcount).zfill(4))\n",
    "        \n",
    "        #place files in correct directory\n",
    "        source_path = \"./%s.gro\" % str(molcount).zfill(4)\n",
    "        destination_path = \"./\"+parent_dir+\"/%s/%s.gro\" % (str(molcount).zfill(4), str(molcount).zfill(4))\n",
    "        os.rename(source_path, destination_path)\n",
    "        source_path = \"./%s.top\" % str(molcount).zfill(4)\n",
    "        destination_path = \"./\"+parent_dir+\"/%s/%s.top\" % (str(molcount).zfill(4), str(molcount).zfill(4))\n",
    "        os.rename(source_path, destination_path)\n",
    "        molcount += 1\n",
    "        break\n",
    "    break"
   ]
  }
 ],
 "metadata": {
  "kernelspec": {
   "display_name": "Python 3 (ipykernel)",
   "language": "python",
   "name": "python3"
  },
  "language_info": {
   "codemirror_mode": {
    "name": "ipython",
    "version": 3
   },
   "file_extension": ".py",
   "mimetype": "text/x-python",
   "name": "python",
   "nbconvert_exporter": "python",
   "pygments_lexer": "ipython3",
   "version": "3.12.9"
  }
 },
 "nbformat": 4,
 "nbformat_minor": 5
}
